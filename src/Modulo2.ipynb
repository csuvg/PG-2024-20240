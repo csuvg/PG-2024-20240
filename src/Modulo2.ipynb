{
  "nbformat": 4,
  "nbformat_minor": 0,
  "metadata": {
    "colab": {
      "provenance": [],
      "gpuType": "T4"
    },
    "kernelspec": {
      "name": "python3",
      "display_name": "Python 3"
    },
    "language_info": {
      "name": "python"
    },
    "accelerator": "GPU"
  },
  "cells": [
    {
      "cell_type": "code",
      "execution_count": null,
      "metadata": {
        "id": "BUlexYQXIxMg"
      },
      "outputs": [],
      "source": [
        "import pandas as pd\n",
        "import os\n",
        "import seaborn as sns\n",
        "import matplotlib.pyplot as plt\n",
        "from sklearn import preprocessing\n",
        "import joblib\n",
        "import numpy as np\n",
        "import matplotlib.pyplot as plt\n",
        "from sklearn.metrics import confusion_matrix, ConfusionMatrixDisplay, roc_curve, roc_auc_score"
      ]
    },
    {
      "cell_type": "code",
      "source": [
        "from google.colab import drive\n",
        "drive.mount('/content/drive')"
      ],
      "metadata": {
        "id": "7rqX46t-e52L",
        "colab": {
          "base_uri": "https://localhost:8080/"
        },
        "outputId": "c8c730e4-34c0-4d93-df13-d6ec282913a1"
      },
      "execution_count": null,
      "outputs": [
        {
          "output_type": "stream",
          "name": "stdout",
          "text": [
            "Drive already mounted at /content/drive; to attempt to forcibly remount, call drive.mount(\"/content/drive\", force_remount=True).\n"
          ]
        }
      ]
    },
    {
      "cell_type": "code",
      "source": [
        "# Especifica el directorio que contiene los archivos CSV\n",
        "directory = '.'  # Cambia esto al path de tu carpeta si es necesario\n",
        "\n",
        "# Obtener la lista de todos los archivos CSV en el directorio\n",
        "csv_files = [file for file in os.listdir(directory) if file.endswith('.csv')]\n",
        "\n",
        "# Leer cada archivo CSV con el delimitador '|'\n",
        "\n",
        "separador = ','\n",
        "\n",
        "df_list = [pd.read_csv(os.path.join(directory, file), sep=separador) for file in csv_files]\n",
        "combined_df = pd.concat(df_list, ignore_index=True)\n",
        "\n",
        "# Mostrar el DataFrame combinado\n",
        "print(combined_df)\n",
        "#combined_df = combined_df.sample(frac=0.25, random_state=42)\n"
      ],
      "metadata": {
        "id": "-dZLcnUdfJUY",
        "colab": {
          "base_uri": "https://localhost:8080/"
        },
        "outputId": "27db2e47-0af8-420a-890d-0953af92908c"
      },
      "execution_count": null,
      "outputs": [
        {
          "output_type": "stream",
          "name": "stdout",
          "text": [
            "               ts   uid  id.orig_h  id.orig_p  id.resp_h  id.resp_p  \\\n",
            "0    1.532523e+09   126         14        358        843        123   \n",
            "1    1.532523e+09  1497         14        358        863        182   \n",
            "2    1.532523e+09   407         14        358         55         23   \n",
            "3    1.532523e+09   555         14        358        784        145   \n",
            "4    1.532524e+09   877         14        358        908        101   \n",
            "..            ...   ...        ...        ...        ...        ...   \n",
            "195  1.532518e+09   781         14        358        918         23   \n",
            "196  1.532518e+09  1089         14        358        840         23   \n",
            "197  1.532518e+09   937         14        564        485          3   \n",
            "198  1.532518e+09  1088         14        411        485          3   \n",
            "199  1.532518e+09   881         14        442        485          3   \n",
            "\n",
            "     conn_state  orig_pkts  orig_ip_bytes  resp_pkts  resp_ip_bytes    tcp  \\\n",
            "0             3          5            547          3            762  False   \n",
            "1             3          5            628          3            762  False   \n",
            "2             3          9            933          7            988  False   \n",
            "3             1         30           3660          0              0  False   \n",
            "4             3          6            714          4           1049  False   \n",
            "..          ...        ...            ...        ...            ...    ...   \n",
            "195           1          1             95          0              0  False   \n",
            "196           1          1             95          0              0  False   \n",
            "197           1          1             65          0              0  False   \n",
            "198           3          1             65          1             81  False   \n",
            "199           1          1             67          0              0  False   \n",
            "\n",
            "      udp  \n",
            "0    True  \n",
            "1    True  \n",
            "2    True  \n",
            "3    True  \n",
            "4    True  \n",
            "..    ...  \n",
            "195  True  \n",
            "196  True  \n",
            "197  True  \n",
            "198  True  \n",
            "199  True  \n",
            "\n",
            "[200 rows x 13 columns]\n"
          ]
        }
      ]
    },
    {
      "cell_type": "code",
      "source": [
        "combined_df.replace('-', pd.NA, inplace=True)\n",
        "print(combined_df.head)"
      ],
      "metadata": {
        "id": "srgHZWBSfL78",
        "colab": {
          "base_uri": "https://localhost:8080/"
        },
        "outputId": "8339ebf8-972e-45ee-9e9e-61f0007146d8"
      },
      "execution_count": null,
      "outputs": [
        {
          "output_type": "stream",
          "name": "stdout",
          "text": [
            "<bound method NDFrame.head of                ts   uid  id.orig_h  id.orig_p  id.resp_h  id.resp_p  \\\n",
            "0    1.532523e+09   126         14        358        843        123   \n",
            "1    1.532523e+09  1497         14        358        863        182   \n",
            "2    1.532523e+09   407         14        358         55         23   \n",
            "3    1.532523e+09   555         14        358        784        145   \n",
            "4    1.532524e+09   877         14        358        908        101   \n",
            "..            ...   ...        ...        ...        ...        ...   \n",
            "195  1.532518e+09   781         14        358        918         23   \n",
            "196  1.532518e+09  1089         14        358        840         23   \n",
            "197  1.532518e+09   937         14        564        485          3   \n",
            "198  1.532518e+09  1088         14        411        485          3   \n",
            "199  1.532518e+09   881         14        442        485          3   \n",
            "\n",
            "     conn_state  orig_pkts  orig_ip_bytes  resp_pkts  resp_ip_bytes    tcp  \\\n",
            "0             3          5            547          3            762  False   \n",
            "1             3          5            628          3            762  False   \n",
            "2             3          9            933          7            988  False   \n",
            "3             1         30           3660          0              0  False   \n",
            "4             3          6            714          4           1049  False   \n",
            "..          ...        ...            ...        ...            ...    ...   \n",
            "195           1          1             95          0              0  False   \n",
            "196           1          1             95          0              0  False   \n",
            "197           1          1             65          0              0  False   \n",
            "198           3          1             65          1             81  False   \n",
            "199           1          1             67          0              0  False   \n",
            "\n",
            "      udp  \n",
            "0    True  \n",
            "1    True  \n",
            "2    True  \n",
            "3    True  \n",
            "4    True  \n",
            "..    ...  \n",
            "195  True  \n",
            "196  True  \n",
            "197  True  \n",
            "198  True  \n",
            "199  True  \n",
            "\n",
            "[200 rows x 13 columns]>\n"
          ]
        }
      ]
    },
    {
      "cell_type": "code",
      "source": [
        "label_encoder = preprocessing.LabelEncoder()\n",
        "\n",
        "df = combined_df\n",
        "\n",
        "if separador == ',':\n",
        "  # Capturado\n",
        "  #   df['ts'] = pd.to_datetime(df['ts'])\n",
        "  #   df['ts'] = df['ts'].astype('int64') // 1e9\n",
        "\n",
        "  # Prueba\n",
        "    df['ts'] = pd.to_numeric(df['ts'])\n",
        "\n",
        "\n",
        "df['uid']= label_encoder.fit_transform(df['uid'])\n",
        "df['id.orig_h']= label_encoder.fit_transform(df['id.orig_h'])\n",
        "df['id.resp_h']= label_encoder.fit_transform(df['id.resp_h'])\n",
        "df['id.resp_p']= label_encoder.fit_transform(df['id.resp_p'])\n",
        "df['id.orig_p']= label_encoder.fit_transform(df['id.orig_p'])\n",
        "\n",
        "\n",
        "\n",
        "df['conn_state']= label_encoder.fit_transform(df['conn_state'])\n",
        "df['orig_pkts'] = pd.to_numeric(df['orig_pkts'])\n",
        "df['orig_ip_bytes'] = pd.to_numeric(df['orig_ip_bytes'])\n",
        "df['resp_pkts'] = pd.to_numeric(df['resp_pkts'])\n",
        "df['resp_ip_bytes'] = pd.to_numeric(df['resp_ip_bytes'])\n"
      ],
      "metadata": {
        "id": "qPYJKhIRfQ7a"
      },
      "execution_count": null,
      "outputs": []
    },
    {
      "cell_type": "code",
      "source": [
        "df.count()"
      ],
      "metadata": {
        "id": "_m59jsCHfmih",
        "colab": {
          "base_uri": "https://localhost:8080/",
          "height": 492
        },
        "outputId": "d7a6a0a5-5685-40b4-d569-5f91c57d0b8a"
      },
      "execution_count": null,
      "outputs": [
        {
          "output_type": "execute_result",
          "data": {
            "text/plain": [
              "ts               200\n",
              "uid              200\n",
              "id.orig_h        200\n",
              "id.orig_p        200\n",
              "id.resp_h        200\n",
              "id.resp_p        200\n",
              "conn_state       200\n",
              "orig_pkts        200\n",
              "orig_ip_bytes    200\n",
              "resp_pkts        200\n",
              "resp_ip_bytes    200\n",
              "tcp              200\n",
              "udp              200\n",
              "dtype: int64"
            ],
            "text/html": [
              "<div>\n",
              "<style scoped>\n",
              "    .dataframe tbody tr th:only-of-type {\n",
              "        vertical-align: middle;\n",
              "    }\n",
              "\n",
              "    .dataframe tbody tr th {\n",
              "        vertical-align: top;\n",
              "    }\n",
              "\n",
              "    .dataframe thead th {\n",
              "        text-align: right;\n",
              "    }\n",
              "</style>\n",
              "<table border=\"1\" class=\"dataframe\">\n",
              "  <thead>\n",
              "    <tr style=\"text-align: right;\">\n",
              "      <th></th>\n",
              "      <th>0</th>\n",
              "    </tr>\n",
              "  </thead>\n",
              "  <tbody>\n",
              "    <tr>\n",
              "      <th>ts</th>\n",
              "      <td>200</td>\n",
              "    </tr>\n",
              "    <tr>\n",
              "      <th>uid</th>\n",
              "      <td>200</td>\n",
              "    </tr>\n",
              "    <tr>\n",
              "      <th>id.orig_h</th>\n",
              "      <td>200</td>\n",
              "    </tr>\n",
              "    <tr>\n",
              "      <th>id.orig_p</th>\n",
              "      <td>200</td>\n",
              "    </tr>\n",
              "    <tr>\n",
              "      <th>id.resp_h</th>\n",
              "      <td>200</td>\n",
              "    </tr>\n",
              "    <tr>\n",
              "      <th>id.resp_p</th>\n",
              "      <td>200</td>\n",
              "    </tr>\n",
              "    <tr>\n",
              "      <th>conn_state</th>\n",
              "      <td>200</td>\n",
              "    </tr>\n",
              "    <tr>\n",
              "      <th>orig_pkts</th>\n",
              "      <td>200</td>\n",
              "    </tr>\n",
              "    <tr>\n",
              "      <th>orig_ip_bytes</th>\n",
              "      <td>200</td>\n",
              "    </tr>\n",
              "    <tr>\n",
              "      <th>resp_pkts</th>\n",
              "      <td>200</td>\n",
              "    </tr>\n",
              "    <tr>\n",
              "      <th>resp_ip_bytes</th>\n",
              "      <td>200</td>\n",
              "    </tr>\n",
              "    <tr>\n",
              "      <th>tcp</th>\n",
              "      <td>200</td>\n",
              "    </tr>\n",
              "    <tr>\n",
              "      <th>udp</th>\n",
              "      <td>200</td>\n",
              "    </tr>\n",
              "  </tbody>\n",
              "</table>\n",
              "</div><br><label><b>dtype:</b> int64</label>"
            ]
          },
          "metadata": {},
          "execution_count": 20
        }
      ]
    },
    {
      "cell_type": "code",
      "source": [
        "columns_to_keep = ['ts', 'uid', 'id.orig_h', 'id.orig_p', 'id.resp_h', 'id.resp_p',\n",
        "                   'conn_state', 'orig_pkts', 'orig_ip_bytes', 'resp_pkts',\n",
        "                   'resp_ip_bytes', 'tcp', 'udp']\n",
        "\n",
        "df = df[columns_to_keep]\n",
        "df.head()\n",
        "\n",
        "X_test = df\n",
        "\n"
      ],
      "metadata": {
        "id": "zZPhRVQZfz3R"
      },
      "execution_count": null,
      "outputs": []
    },
    {
      "cell_type": "code",
      "source": [
        "X_test.count()"
      ],
      "metadata": {
        "id": "OEL_bn3aN6DZ",
        "colab": {
          "base_uri": "https://localhost:8080/",
          "height": 492
        },
        "outputId": "cffb3b05-cc7e-4d5f-bab3-c95c87a852b9"
      },
      "execution_count": null,
      "outputs": [
        {
          "output_type": "execute_result",
          "data": {
            "text/plain": [
              "ts               200\n",
              "uid              200\n",
              "id.orig_h        200\n",
              "id.orig_p        200\n",
              "id.resp_h        200\n",
              "id.resp_p        200\n",
              "conn_state       200\n",
              "orig_pkts        200\n",
              "orig_ip_bytes    200\n",
              "resp_pkts        200\n",
              "resp_ip_bytes    200\n",
              "tcp              200\n",
              "udp              200\n",
              "dtype: int64"
            ],
            "text/html": [
              "<div>\n",
              "<style scoped>\n",
              "    .dataframe tbody tr th:only-of-type {\n",
              "        vertical-align: middle;\n",
              "    }\n",
              "\n",
              "    .dataframe tbody tr th {\n",
              "        vertical-align: top;\n",
              "    }\n",
              "\n",
              "    .dataframe thead th {\n",
              "        text-align: right;\n",
              "    }\n",
              "</style>\n",
              "<table border=\"1\" class=\"dataframe\">\n",
              "  <thead>\n",
              "    <tr style=\"text-align: right;\">\n",
              "      <th></th>\n",
              "      <th>0</th>\n",
              "    </tr>\n",
              "  </thead>\n",
              "  <tbody>\n",
              "    <tr>\n",
              "      <th>ts</th>\n",
              "      <td>200</td>\n",
              "    </tr>\n",
              "    <tr>\n",
              "      <th>uid</th>\n",
              "      <td>200</td>\n",
              "    </tr>\n",
              "    <tr>\n",
              "      <th>id.orig_h</th>\n",
              "      <td>200</td>\n",
              "    </tr>\n",
              "    <tr>\n",
              "      <th>id.orig_p</th>\n",
              "      <td>200</td>\n",
              "    </tr>\n",
              "    <tr>\n",
              "      <th>id.resp_h</th>\n",
              "      <td>200</td>\n",
              "    </tr>\n",
              "    <tr>\n",
              "      <th>id.resp_p</th>\n",
              "      <td>200</td>\n",
              "    </tr>\n",
              "    <tr>\n",
              "      <th>conn_state</th>\n",
              "      <td>200</td>\n",
              "    </tr>\n",
              "    <tr>\n",
              "      <th>orig_pkts</th>\n",
              "      <td>200</td>\n",
              "    </tr>\n",
              "    <tr>\n",
              "      <th>orig_ip_bytes</th>\n",
              "      <td>200</td>\n",
              "    </tr>\n",
              "    <tr>\n",
              "      <th>resp_pkts</th>\n",
              "      <td>200</td>\n",
              "    </tr>\n",
              "    <tr>\n",
              "      <th>resp_ip_bytes</th>\n",
              "      <td>200</td>\n",
              "    </tr>\n",
              "    <tr>\n",
              "      <th>tcp</th>\n",
              "      <td>200</td>\n",
              "    </tr>\n",
              "    <tr>\n",
              "      <th>udp</th>\n",
              "      <td>200</td>\n",
              "    </tr>\n",
              "  </tbody>\n",
              "</table>\n",
              "</div><br><label><b>dtype:</b> int64</label>"
            ]
          },
          "metadata": {},
          "execution_count": 22
        }
      ]
    },
    {
      "cell_type": "code",
      "source": [
        "from sklearn.preprocessing import Normalizer\n",
        "\n",
        "X_test.count()\n",
        "X_test = X_test.dropna()\n",
        "\n",
        "scaler = Normalizer()\n",
        "X_test_scaled = scaler.transform(X_test)"
      ],
      "metadata": {
        "id": "8756m6cof3AY",
        "colab": {
          "base_uri": "https://localhost:8080/"
        },
        "outputId": "1c8b991c-7a2a-4dd4-f30a-784030b21076"
      },
      "execution_count": null,
      "outputs": [
        {
          "output_type": "stream",
          "name": "stderr",
          "text": [
            "/usr/local/lib/python3.10/dist-packages/sklearn/base.py:486: UserWarning: X has feature names, but Normalizer was fitted without feature names\n",
            "  warnings.warn(\n"
          ]
        }
      ]
    },
    {
      "cell_type": "code",
      "source": [
        "from sklearn.svm import SVC\n",
        "from sklearn.metrics import classification_report, accuracy_score\n",
        "\n",
        "# Ruta donde se guardará el modelo\n",
        "model_path = '/content/drive/My Drive/Colab Notebooks/final.pkl'\n",
        "\n",
        "# Cargar el modelo\n",
        "svm_model = joblib.load(model_path)"
      ],
      "metadata": {
        "id": "v-nzGeJFf8iK"
      },
      "execution_count": null,
      "outputs": []
    },
    {
      "cell_type": "code",
      "source": [
        "y_pred_svm = svm_model.predict(X_test)"
      ],
      "metadata": {
        "id": "-5A4y0P-gDGo"
      },
      "execution_count": null,
      "outputs": []
    },
    {
      "cell_type": "code",
      "source": [
        "# Agregar las predicciones al DataFrame\n",
        "X_test['Predicción_SVM'] = y_pred_svm"
      ],
      "metadata": {
        "id": "-72V0zu3gWTA"
      },
      "execution_count": null,
      "outputs": []
    },
    {
      "cell_type": "code",
      "source": [
        "# Contar la cantidad de 1s y 0s en las predicciones del modelo SVM\n",
        "conteo_svm = X_test['Predicción_SVM'].value_counts()\n",
        "print(\"Conteo de predicciones SVM:\")\n",
        "print(conteo_svm)\n"
      ],
      "metadata": {
        "colab": {
          "base_uri": "https://localhost:8080/"
        },
        "id": "U-PzhmZ3MBw6",
        "outputId": "6b5bd219-ed7a-4b85-a1c5-7a0770f18c23"
      },
      "execution_count": null,
      "outputs": [
        {
          "output_type": "stream",
          "name": "stdout",
          "text": [
            "Conteo de predicciones SVM:\n",
            "Predicción_SVM\n",
            "1    104\n",
            "0     96\n",
            "Name: count, dtype: int64\n"
          ]
        }
      ]
    },
    {
      "cell_type": "markdown",
      "source": [],
      "metadata": {
        "id": "jPDBhC5c0Y-s"
      }
    },
    {
      "cell_type": "code",
      "source": [
        "if conteo_svm.get(1, 0) > 0:\n",
        "    paquetes_maliciosos = X_test[X_test['Predicción_SVM'] == 1]\n",
        "    paquetes_maliciosos.to_csv('paquetes_maliciosos.csv', index=False)\n",
        "    print(\"Existen paquetes que han sido considerados como maliciosos y se ha guardado el listado paquetes_maliciosos.csv\")\n",
        "else:\n",
        "    print(\"Todos los paquetes se consideran normales y sin riesgo alguno.\")"
      ],
      "metadata": {
        "colab": {
          "base_uri": "https://localhost:8080/"
        },
        "id": "o1hgUZGtz_do",
        "outputId": "3261dbfe-e4ba-4ef4-b029-5c77f7119dd7"
      },
      "execution_count": null,
      "outputs": [
        {
          "output_type": "stream",
          "name": "stdout",
          "text": [
            "Existen paquetes que han sido considerados como maliciosos y se ha guardado el listado paquetes_maliciosos.csv\n"
          ]
        }
      ]
    }
  ]
}